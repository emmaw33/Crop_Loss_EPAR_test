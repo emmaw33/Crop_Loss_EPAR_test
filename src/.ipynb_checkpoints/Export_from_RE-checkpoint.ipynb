{
 "cells": [
  {
   "cell_type": "markdown",
   "metadata": {},
   "source": [
    "# Malawi Case Study"
   ]
  },
  {
   "cell_type": "code",
   "execution_count": null,
   "metadata": {},
   "outputs": [],
   "source": [
    "%matplotlib inline"
   ]
  },
  {
   "cell_type": "markdown",
   "metadata": {},
   "source": [
    "## Exporting imagery data from Radiant.Earth platform "
   ]
  },
  {
   "cell_type": "code",
   "execution_count": null,
   "metadata": {},
   "outputs": [],
   "source": [
    "# Setting up API connection\n",
    "\n",
    "from rasterfoundry.api import API\n",
    "from datetime import datetime\n",
    "import sys\n",
    "refresh_token = 'CzZakmSf-E-jDh2MXdrLWJRNKtNATMf-vavKMIRYHcQdm'\n",
    "api = API(refresh_token=refresh_token)"
   ]
  },
  {
   "cell_type": "code",
   "execution_count": null,
   "metadata": {},
   "outputs": [],
   "source": [
    "# Converting geometry to Bounding Box\n",
    "def geom_to_bbox(geom):\n",
    "    coords = geom\n",
    "    min_x = min([point[0] for point in coords])\n",
    "    min_y = min([point[1] for point in coords])\n",
    "    max_x = max([point[0] for point in coords])\n",
    "    max_y = max([point[1] for point in coords])\n",
    "    return ','.join(map(str, [min_x, min_y, max_x, max_y]))"
   ]
  },
  {
   "cell_type": "code",
   "execution_count": null,
   "metadata": {},
   "outputs": [],
   "source": [
    "# Malawi coordinates\n",
    "MalawiCoor = [[30.78369140625, -9.730714305756942],[33.9697265625,-17.644022027872712],[36.826171875,-17.035777250427184],[34.541015625,-8.646195681181904],[30.78369140625, -9.730714305756942]]\n",
    "MalawiBbox = geom_to_bbox(MalawiCoor)"
   ]
  },
  {
   "cell_type": "code",
   "execution_count": null,
   "metadata": {
    "scrolled": false
   },
   "outputs": [],
   "source": [
    "# Query scenes overlapping with Malawi bbox for the given time period, and cloud coverage. \n",
    "MalawiScenes = api.get_scenes(maxCloudCover=1,\n",
    "                               minCloudCover=0,\n",
    "                               bbox=MalawiBbox,\n",
    "                               minAcquisitionDatetime=datetime(2015, 12, 1).isoformat()+'Z',\n",
    "                               maxAcquisitionDatetime=datetime(2016, 4, 30).isoformat() + 'Z')\n",
    "MalawiScenes.count"
   ]
  },
  {
   "cell_type": "code",
   "execution_count": null,
   "metadata": {},
   "outputs": [],
   "source": [
    "# Filtering and exporting scenes\n",
    "MalawiScenes.results"
   ]
  },
  {
   "cell_type": "code",
   "execution_count": null,
   "metadata": {},
   "outputs": [],
   "source": [
    "# Clipping Landsat scenes to the exact polygon of Malawi bbox\n",
    "# or extract the values for specific pixels that overlap survey points"
   ]
  },
  {
   "cell_type": "code",
   "execution_count": null,
   "metadata": {},
   "outputs": [],
   "source": [
    "projects = api.projects\n",
    "projects"
   ]
  },
  {
   "cell_type": "code",
   "execution_count": null,
   "metadata": {},
   "outputs": [],
   "source": [
    "SampleAOI = [[\n",
    "              33.845229148864746,\n",
    "              -12.715660668683975\n",
    "            ],\n",
    "            [\n",
    "              33.85162353515625,\n",
    "              -12.715660668683975\n",
    "            ],\n",
    "            [\n",
    "              33.85162353515625,\n",
    "              -12.710469625900334\n",
    "            ],\n",
    "            [\n",
    "              33.845229148864746,\n",
    "              -12.710469625900334\n",
    "            ],\n",
    "            [\n",
    "              33.845229148864746,\n",
    "              -12.715660668683975\n",
    "            ]]\n",
    "SampleBox = geom_to_bbox(SampleAOI)"
   ]
  },
  {
   "cell_type": "code",
   "execution_count": null,
   "metadata": {},
   "outputs": [],
   "source": [
    "Malawi_project = projects[1]\n",
    "data = Malawi_project.geotiff(SampleBox, zoom=16)"
   ]
  },
  {
   "cell_type": "code",
   "execution_count": null,
   "metadata": {},
   "outputs": [],
   "source": [
    "with open('sample.tiff', 'wb') as outf:\n",
    "    outf.write(data)"
   ]
  },
  {
   "cell_type": "markdown",
   "metadata": {},
   "source": [
    "## Reading survery data "
   ]
  },
  {
   "cell_type": "code",
   "execution_count": null,
   "metadata": {},
   "outputs": [],
   "source": [
    "import pandas as pd\n",
    "from datetime import date\n",
    "survery_filename = '/home/ec2-user/crop-loss-EPAR/data/Malawi Survey Responses EPAR Radiant 2Sigma.csv'\n",
    "df = pd.read_csv(survery_filename)\n",
    "df.head()"
   ]
  },
  {
   "cell_type": "code",
   "execution_count": null,
   "metadata": {},
   "outputs": [],
   "source": [
    "import shapefile\n",
    "aoi_filename = '/home/ec2-user/crop-loss-EPAR/data/Malawi_LSMS_Enumeration_Areas.shp'\n",
    "shape = shapefile.Reader(aoi_filename)\n",
    "#first feature of the shapefile\n",
    "feature = shape.shapeRecords()[0]\n",
    "first = feature.shape.__geo_interface__  \n",
    "\n",
    "from shapely.geometry import shape\n",
    "shp_geom = shape(first)\n",
    "print(shp_geom)"
   ]
  },
  {
   "cell_type": "code",
   "execution_count": null,
   "metadata": {},
   "outputs": [],
   "source": [
    "from mpl_toolkits.basemap import Basemap\n",
    "import matplotlib.pyplot as plt\n",
    "\n",
    "map = Basemap(llcrnrlon=35,llcrnrlat=-15,urcrnrlon=36,urcrnrlat=-16,\n",
    "              resolution='f', epsg=4326)\n",
    "\n",
    "# map.drawmapboundary(fill_color='aqua')\n",
    "# map.fillcontinents(color='#ddaa66',lake_color='aqua')\n",
    "map.drawcoastlines()\n",
    "\n",
    "map.readshapefile('/home/ec2-user/crop-loss-EPAR/data/Malawi_LSMS_Enumeration_Areas', 'Malawi_LSMS_Enumeration_Areas')\n",
    "\n",
    "plt.show()"
   ]
  },
  {
   "cell_type": "code",
   "execution_count": null,
   "metadata": {},
   "outputs": [],
   "source": [
    "from mpl_toolkits.basemap import Basemap\n",
    "import matplotlib.pyplot as plt\n",
    "fig = plt.figure(figsize=(10, 20))\n",
    "ax = fig.add_subplot(111)\n",
    "# add a basemap and a small additional extent\n",
    "m = Basemap(\n",
    "    epsg=4326,\n",
    "    llcrnrlon=32,\n",
    "    llcrnrlat=-12,\n",
    "    urcrnrlon=38,\n",
    "    urcrnrlat=-18,\n",
    "    resolution='f')\n",
    "\n",
    "m.drawcoastlines(linewidth=0.3)\n",
    "# m.drawmapboundary()\n",
    "# a shapefile can be added like so if needed\n",
    "m.readshapefile('/home/ec2-user/crop-loss-EPAR/data/Malawi_LSMS_Enumeration_Areas', 'Malawi_LSMS_Enumeration_Areas', color='#555555')\n",
    "\n",
    "plt.show()"
   ]
  }
 ],
 "metadata": {
  "kernelspec": {
   "display_name": "Python 3",
   "language": "python",
   "name": "python3"
  },
  "language_info": {
   "codemirror_mode": {
    "name": "ipython",
    "version": 3
   },
   "file_extension": ".py",
   "mimetype": "text/x-python",
   "name": "python",
   "nbconvert_exporter": "python",
   "pygments_lexer": "ipython3",
   "version": "3.6.5"
  }
 },
 "nbformat": 4,
 "nbformat_minor": 2
}
