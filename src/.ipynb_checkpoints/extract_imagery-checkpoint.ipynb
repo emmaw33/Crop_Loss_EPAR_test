{
 "cells": [
  {
   "cell_type": "markdown",
   "metadata": {},
   "source": [
    "# Malawi Case Study"
   ]
  },
  {
   "cell_type": "code",
   "execution_count": null,
   "metadata": {},
   "outputs": [],
   "source": [
    "# Imports\n",
    "import descarteslabs as dl\n",
    "from datetime import datetime\n",
    "import sys\n",
    "import matplotlib.pyplot as plt\n",
    "%matplotlib inline\n",
    "import pandas as pd\n",
    "from datetime import date\n",
    "import shapefile\n",
    "import numpy as np"
   ]
  },
  {
   "cell_type": "markdown",
   "metadata": {},
   "source": [
    "### Reading survery data "
   ]
  },
  {
   "cell_type": "code",
   "execution_count": null,
   "metadata": {},
   "outputs": [],
   "source": [
    "survery_filename = '/home/ec2-user/crop-loss-EPAR/data/Malawi Survey Responses EPAR Radiant 2Sigma.csv'\n",
    "df = pd.read_csv(survery_filename)\n",
    "df.head()"
   ]
  },
  {
   "cell_type": "code",
   "execution_count": null,
   "metadata": {},
   "outputs": [],
   "source": [
    "aoi_filename = '/home/ec2-user/crop-loss-EPAR/data/Malawi_LSMS_Enumeration_Areas.shp'\n",
    "shape = shapefile.Reader(aoi_filename)\n",
    "feature = shape.shapeRecords()[0]\n",
    "polygons = feature.shape.__geo_interface__  "
   ]
  },
  {
   "cell_type": "code",
   "execution_count": null,
   "metadata": {},
   "outputs": [],
   "source": [
    "# generating an empty geometry\n",
    "geom = {\n",
    "    \"type\": \"Polygon\",\n",
    "    \"coordinates\": [\n",
    "    ]\n",
    "}"
   ]
  },
  {
   "cell_type": "code",
   "execution_count": null,
   "metadata": {},
   "outputs": [],
   "source": [
    "for i_polygon in range(0, 1): # 1 should be replaced with len(polygons['coordinates']) to loop over all polygons\n",
    "    geom['coordinates']=polygons['coordinates'][i_polygon]\n",
    "    scenes, ctx = dl.scenes.search(geom,\n",
    "                                   products=\"landsat:LC08:PRE:LaSRC\",\n",
    "                                   start_datetime=\"2015-12-01\",\n",
    "                                   end_datetime=\"2016-04-30\",\n",
    "                                   )\n",
    "    ctx.assign(resolution=30)\n",
    "    arr = scenes[-1].ndarray(\"blue\", ctx)\n",
    "    data = np.empty((arr.data.shape[1]*arr.data.shape[2], 6, len(scenes)))\n",
    "    \n",
    "    for i_scene in range(0, len(scenes)):\n",
    "        arr = scenes[i_scene].ndarray(\"blue green red nir swir1 swir2\", ctx)#\n",
    "        data[:, :, i_scene] = arr.data.swapaxes(0, 1).swapaxes(1, 2).reshape(-1, arr.data.shape[0])\n",
    "        \n",
    "# variable data now contains all the landsat 8 imagery values for bands \"blue green red nir swir1 swir2\"\n",
    "# sorted in the 6 columns of its dimension 1. Dimension 0 is all the pixels that fall within this AOI, \n",
    "# and dimension 2 is the temporal dimension which for this AOI and time period is 12 images. \n",
    "# I couldn't figure out how to match this AOI from the shapefile which only has a bounding box to the\n",
    "# row of the csv file which I now read into the panda dataframe in above table as you see. \n",
    "# If you figure our how records of this table match the AOIs, we have the data ready."
   ]
  },
  {
   "cell_type": "code",
   "execution_count": null,
   "metadata": {},
   "outputs": [],
   "source": [
    "data.shape"
   ]
  },
  {
   "cell_type": "code",
   "execution_count": null,
   "metadata": {},
   "outputs": [],
   "source": []
  }
 ],
 "metadata": {
  "kernelspec": {
   "display_name": "Python 3",
   "language": "python",
   "name": "python3"
  },
  "language_info": {
   "codemirror_mode": {
    "name": "ipython",
    "version": 3
   },
   "file_extension": ".py",
   "mimetype": "text/x-python",
   "name": "python",
   "nbconvert_exporter": "python",
   "pygments_lexer": "ipython3",
   "version": "3.6.5"
  }
 },
 "nbformat": 4,
 "nbformat_minor": 2
}
