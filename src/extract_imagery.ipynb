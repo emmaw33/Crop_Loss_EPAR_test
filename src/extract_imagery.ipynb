{
 "cells": [
  {
   "cell_type": "markdown",
   "metadata": {},
   "source": [
    "# Crop Loss Prediction Project"
   ]
  },
  {
   "cell_type": "code",
   "execution_count": null,
   "metadata": {},
   "outputs": [],
   "source": [
    "# Imports\n",
    "import descarteslabs as dl\n",
    "from datetime import datetime\n",
    "import sys\n",
    "import matplotlib.pyplot as plt\n",
    "%matplotlib inline\n",
    "import pandas as pd\n",
    "from datetime import date\n",
    "import shapefile\n",
    "import numpy as np"
   ]
  },
  {
   "cell_type": "code",
   "execution_count": null,
   "metadata": {},
   "outputs": [],
   "source": [
    "# Methods\n",
    "def filter_duplicates(items):\n",
    "    # Removing duplicate consecutive coordinates in a polygon\n",
    "    for item in items:\n",
    "        prev = None\n",
    "        for i in item:\n",
    "            if i != prev:\n",
    "                yield i \n",
    "                prev = i\n",
    "\n",
    "            \n",
    "def search_scenes(geom, product, start_datetime, end_datetime):\n",
    "    # Searching for scenes of a specific satellite product over `geom` and within the datetimes entered\n",
    "    scenes, ctx = dl.scenes.search(geom,\n",
    "                                   products=product,\n",
    "                                   start_datetime = start_datetime,\n",
    "                                   end_datetime = end_datetime\n",
    "                                   )    \n",
    "    return scenes, ctx\n",
    "\n",
    "def read_aoi_shapefile(filename):\n",
    "    # Reading the shapefile with all AOIs, and convert them to a dataframe\n",
    "    shapes = shapefile.Reader(filename)\n",
    "    aois = shapes.shapeRecords()\n",
    "    col_names = [\"y3_hhid\", \"gardenid\", \"plotid\", \"coordinates\"]\n",
    "    df = pd.DataFrame(index=np.arange(0, len(aois)), columns = col_names)\n",
    "    for i, r in enumerate(aois):\n",
    "        df.at[i] = [r.record[0], r.record[1], r.record[2], np.nan]\n",
    "        df.at[i, \"coordinates\"] = [r.shape.__geo_interface__['coordinates'][0]]\n",
    "    return df\n",
    "\n",
    "def extract_sat_reflectance(lsms_df,\n",
    "                            aois_df, \n",
    "                            product_name,\n",
    "                            bands,\n",
    "                            resolution,\n",
    "                            start_datetime,\n",
    "                            end_datetime):\n",
    "    \n",
    "    \n",
    "    samples_df = pd.DataFrame(columns = lsms_df.columns)\n",
    "\n",
    "    geom = {\n",
    "        \"type\": \"Polygon\",\n",
    "        \"coordinates\": [\n",
    "        ]\n",
    "    }\n",
    "    \n",
    "    # Looping over AOI polygons\n",
    "    for i_plot in range(0, 20):#LSMS_df.shape[0]):\n",
    "        y3_hhid = lsms_df[\"y3_hhid\"][i_plot]\n",
    "        gardenid = lsms_df[\"gardenid\"][i_plot]\n",
    "        plotid = lsms_df[\"plotid\"][i_plot]\n",
    "\n",
    "        aoi = aois_df.loc[(aois_df['y3_hhid'] == y3_hhid)\n",
    "                    & (aois_df['gardenid'] == gardenid)\n",
    "                    & (aois_df['plotid'] == plotid)]\n",
    "        \n",
    "        if not aoi.empty:\n",
    "            coors = list()\n",
    "            coor = aoi.iloc[0][\"coordinates\"]\n",
    "            coors.insert(0, tuple(filter_duplicates(coor)))\n",
    "            geom['coordinates'] = coors\n",
    "            scenes, ctx = search_scenes(geom, product_name, start_datetime, end_datetime)\n",
    "\n",
    "            ctx.assign(resolution = resolution)\n",
    "            arr = scenes[-1].ndarray(bands[0], ctx)\n",
    "\n",
    "            sample = lsms_df.iloc[i_plot].copy()\n",
    "            sample.loc['datetime'] = list(scenes.each.properties['acquired'])\n",
    "            \n",
    "            # Eaxtracing band information for each scene\n",
    "            for band in bands:\n",
    "                data = np.empty((arr.data.shape[1], arr.data.shape[2], len(scenes)))\n",
    "                for scene in range(0, len(scenes)):\n",
    "                    band_scale = list(scenes.each.properties.bands.blue.data_range)[0][1]\n",
    "                    arr = scenes[scene].ndarray(band, ctx)\n",
    "                    band_data = arr.data / band_scale\n",
    "                    band_data[arr.mask] = np.nan\n",
    "                    data[:, :, scene] = np.squeeze(band_data.swapaxes(0, 1).swapaxes(1, 2))#.reshape(-1, arr.data.shape[0])\n",
    "                sample.loc[band] = data\n",
    "            \n",
    "            \n",
    "            # Extracing cloud mask\n",
    "            data = np.empty((arr.data.shape[1], arr.data.shape[2], len(scenes)))\n",
    "            for scene in range(0, len(scenes)):\n",
    "                arr = scenes[scene].ndarray('cloud-mask', ctx)\n",
    "                band_data = arr.data\n",
    "                data[:, :, scene] = np.squeeze(band_data.swapaxes(0, 1).swapaxes(1, 2))#.reshape(-1, arr.data.shape[0])\n",
    "            sample.loc['cloud-mask'] = data\n",
    "\n",
    "            samples_df = samples_df.append(sample)\n",
    "    \n",
    "    # Removing columns with geolocation info\n",
    "    samples_df = samples_df.drop(columns=[\"y3_hhid\", \"gardenid\", \"plotid\", \"hh_gps_lat\", \"hh_gps_long\"])\n",
    "\n",
    "    return samples_df"
   ]
  },
  {
   "cell_type": "markdown",
   "metadata": {},
   "source": [
    "## Malawi Case Study"
   ]
  },
  {
   "cell_type": "markdown",
   "metadata": {},
   "source": [
    "### Reading survery data "
   ]
  },
  {
   "cell_type": "code",
   "execution_count": null,
   "metadata": {},
   "outputs": [],
   "source": [
    "lsms_malawi_filename = '/home/ec2-user/crop-loss-EPAR/data/Malawi Survey Responses EPAR Radiant 2Sigma.csv'\n",
    "lsms_malawi_df = pd.read_csv(lsms_malawi_filename)\n",
    "lsms_malawi_df.head()"
   ]
  },
  {
   "cell_type": "markdown",
   "metadata": {},
   "source": [
    "### Reading AOIs "
   ]
  },
  {
   "cell_type": "code",
   "execution_count": null,
   "metadata": {},
   "outputs": [],
   "source": [
    "# Reading the shapefile to a dataframe with three IDs, and coordinates\n",
    "# Data cleanings that are done outside of this notebook:\n",
    "# Duplicate entries are cleaned, missing data are removed, and \n",
    "\n",
    "aoi_malawi_filename = '/home/ec2-user/crop-loss-EPAR/data/Malawi_LSMS_Enumeration_Areas_100m_Example.shp'\n",
    "aois_malawi_df = read_aoi_shapefile(aoi_malawi_filename)"
   ]
  },
  {
   "cell_type": "markdown",
   "metadata": {},
   "source": [
    "### Extracting Satellite Imagery data "
   ]
  },
  {
   "cell_type": "code",
   "execution_count": null,
   "metadata": {},
   "outputs": [],
   "source": [
    "malawi_bands = [\"blue\", \"green\", \"red\", \"nir\", \"swir1\", \"swir2\"]\n",
    "malawi_start = \"2015-12-01\"\n",
    "malawi_end = \"2016-04-30\"\n",
    "\n",
    "malawi_df = extract_sat_reflectance(lsms_df = lsms_malawi_df,\n",
    "                        aois_df = aois_malawi_df,\n",
    "                        product_name = \"landsat:LC08:PRE:LaSRC\",\n",
    "                        bands = malawi_bands,\n",
    "                        resolution = 30,\n",
    "                        start_datetime = malawi_start,\n",
    "                        end_datetime = malawi_end)"
   ]
  },
  {
   "cell_type": "code",
   "execution_count": null,
   "metadata": {},
   "outputs": [],
   "source": [
    "malawi_df.head()"
   ]
  },
  {
   "cell_type": "markdown",
   "metadata": {},
   "source": [
    "### Export data to csv "
   ]
  },
  {
   "cell_type": "code",
   "execution_count": null,
   "metadata": {},
   "outputs": [],
   "source": [
    "malawi_df.to_csv('/home/ec2-user/crop-loss-EPAR/exports/malawi_data.csv')"
   ]
  }
 ],
 "metadata": {
  "kernelspec": {
   "display_name": "Python 3",
   "language": "python",
   "name": "python3"
  },
  "language_info": {
   "codemirror_mode": {
    "name": "ipython",
    "version": 3
   },
   "file_extension": ".py",
   "mimetype": "text/x-python",
   "name": "python",
   "nbconvert_exporter": "python",
   "pygments_lexer": "ipython3",
   "version": "3.6.5"
  }
 },
 "nbformat": 4,
 "nbformat_minor": 2
}
